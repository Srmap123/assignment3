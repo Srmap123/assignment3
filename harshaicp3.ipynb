{
 "cells": [
  {
   "cell_type": "code",
   "execution_count": 10,
   "metadata": {
    "colab": {
     "base_uri": "https://localhost:8080/"
    },
    "id": "1wzMvSGtemND",
    "outputId": "066d41eb-824c-47eb-b75c-872e728b086f"
   },
   "outputs": [
    {
     "name": "stdout",
     "output_type": "stream",
     "text": [
      "Total Employees: 4\n",
      "Average Salary: 74.25\n"
     ]
    }
   ],
   "source": [
    "class Employee:\n",
    "    total_employees = 0  # Class-level variable to count the number of Employees\n",
    "\n",
    "    def __init__(self, name, family, salary, department):\n",
    "        self.name = name\n",
    "        self.family = family\n",
    "        self.salary = salary\n",
    "        self.department = department\n",
    "        Employee.total_employees += 1  # Increment the count of employees\n",
    "\n",
    "    @staticmethod\n",
    "    def average_salary(employees):\n",
    "        total_salary = sum(employee.salary for employee in employees)\n",
    "        return total_salary / len(employees)\n",
    "\n",
    "class FulltimeEmployee(Employee):\n",
    "    pass\n",
    "\n",
    "\n",
    "employee1 = Employee(\"harsha\", \"harsha Family\", 75, \"ind\")\n",
    "employee2 = Employee(\"sai\", \"sai  Family\", 67, \"business\")\n",
    "\n",
    "\n",
    "fulltime_employee1 = FulltimeEmployee(\"krishna\", \"krishna's Family\", 88, \"Farming\")\n",
    "fulltime_employee2 = FulltimeEmployee(\"sai\", \"sai's Family\", 67, \"Fancy\")\n",
    "\n",
    "\n",
    "employees = [employee1, employee2, fulltime_employee1, fulltime_employee2]\n",
    "avg_salary = Employee.average_salary(employees)\n",
    "\n",
    "print(\"Total Employees:\", Employee.total_employees)\n",
    "print(\"Average Salary:\", avg_salary)"
   ]
  },
  {
   "cell_type": "code",
   "execution_count": 11,
   "metadata": {
    "colab": {
     "base_uri": "https://localhost:8080/"
    },
    "id": "OygJDPLde6Mq",
    "outputId": "2cb45339-f4ff-441a-e569-695a2d615ea4"
   },
   "outputs": [
    {
     "name": "stdout",
     "output_type": "stream",
     "text": [
      "Original random vector:\n",
      "[ 2.07373404  3.7286712   0.         11.68108035  3.75227681 16.36770254\n",
      "  9.28255891  5.59581864  0.         10.78586622  9.56486278  5.74541579\n",
      " 13.80553949  0.          9.31500296  6.479609    6.66217758 10.27352022\n",
      "  0.         13.70011171]\n",
      "\n",
      "Reshaped array:\n",
      "[[ 2.07373404  3.7286712   0.         11.68108035  3.75227681]\n",
      " [16.36770254  9.28255891  5.59581864  0.         10.78586622]\n",
      " [ 9.56486278  5.74541579 13.80553949  0.          9.31500296]\n",
      " [ 6.479609    6.66217758 10.27352022  0.         13.70011171]]\n"
     ]
    }
   ],
   "source": [
    "import numpy as np\n",
    "\n",
    "\n",
    "random_vector = np.random.uniform(1, 20, 20)\n",
    "\n",
    "\n",
    "reshaped_array = random_vector.reshape(4, 5)\n",
    "\n",
    "\n",
    "reshaped_array[np.arange(4), np.argmax(reshaped_array, axis=1)] = 0\n",
    "\n",
    "print(\"Original random vector:\")\n",
    "print(random_vector)\n",
    "print(\"\\nReshaped array:\")\n",
    "print(reshaped_array)\n"
   ]
  },
  {
   "cell_type": "code",
   "execution_count": null,
   "metadata": {},
   "outputs": [],
   "source": []
  }
 ],
 "metadata": {
  "colab": {
   "provenance": []
  },
  "kernelspec": {
   "display_name": "Python 3 (ipykernel)",
   "language": "python",
   "name": "python3"
  },
  "language_info": {
   "codemirror_mode": {
    "name": "ipython",
    "version": 3
   },
   "file_extension": ".py",
   "mimetype": "text/x-python",
   "name": "python",
   "nbconvert_exporter": "python",
   "pygments_lexer": "ipython3",
   "version": "3.9.13"
  }
 },
 "nbformat": 4,
 "nbformat_minor": 1
}
